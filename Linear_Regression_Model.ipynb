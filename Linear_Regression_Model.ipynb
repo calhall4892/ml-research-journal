{
  "nbformat": 4,
  "nbformat_minor": 0,
  "metadata": {
    "colab": {
      "provenance": []
    },
    "kernelspec": {
      "name": "python3",
      "display_name": "Python 3"
    },
    "language_info": {
      "name": "python"
    }
  },
  "cells": [
    {
      "cell_type": "markdown",
      "source": [
        "# The Mathematics of Linear Regression\n",
        "\n",
        "_Author: Callum Hall_  \n",
        "_Date: 05/08/2025_"
      ],
      "metadata": {
        "id": "cqyeV5R7QNg9"
      }
    },
    {
      "cell_type": "markdown",
      "source": [
        "# Chapter 1: The Core Idea\n",
        "\n",
        "## 1.1 Overview\n",
        "\n",
        "Linear Regression is a type of supervised algorithm that uses labelled data, consisting of input features ($X_{train}$) and their corresponding true values ($y_{train}$). The goal is to learn the most optimised linear function that can then be applied and used to predict the value ($\\hat{y}$) on a new, unseen dataset ($X_{test}$).\n",
        "\n",
        "## 1.2 The General Equation\n",
        "\n",
        "As previously desribed in the overview, the algorithm uses a linear function to achieve the best optimised result. This, therefore, means the algorithm is ultimatly based upon $y = mx + c$ but this is displayed differently in machine learning and is as follows $$\\hat{y} = Wx + b$$\n",
        "\n",
        "* $\\hat{y}$ - Dependant variable (prediction). $y$ is used to to represent true value.\n",
        "* $W$ - Gradient (weights)\n",
        "* $x$ - Independant variable ($X$ for matrix)\n",
        "* $b$ - Y-Interecept (bias)"
      ],
      "metadata": {
        "id": "3tzZcf-DYEDl"
      }
    },
    {
      "cell_type": "code",
      "execution_count": null,
      "metadata": {
        "id": "uQXJloohPHSH"
      },
      "outputs": [],
      "source": []
    }
  ]
}