{
  "nbformat": 4,
  "nbformat_minor": 0,
  "metadata": {
    "colab": {
      "provenance": [],
      "authorship_tag": "ABX9TyNPHeWViV737g+vmRRRy7rn"
    },
    "kernelspec": {
      "name": "python3",
      "display_name": "Python 3"
    },
    "language_info": {
      "name": "python"
    }
  },
  "cells": [
    {
      "cell_type": "markdown",
      "source": [
        "# The Mathematics of Linear Regression\n",
        "\n",
        "_Author: Callum Hall_  \n",
        "_Date: 05/08/2025_"
      ],
      "metadata": {
        "id": "cqyeV5R7QNg9"
      }
    },
    {
      "cell_type": "code",
      "execution_count": null,
      "metadata": {
        "id": "uQXJloohPHSH"
      },
      "outputs": [],
      "source": []
    }
  ]
}