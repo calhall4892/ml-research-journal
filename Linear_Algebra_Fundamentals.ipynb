{
  "nbformat": 4,
  "nbformat_minor": 0,
  "metadata": {
    "colab": {
      "provenance": [],
      "authorship_tag": "ABX9TyPRBrZOKfILVPO2uhUWq/ua"
    },
    "kernelspec": {
      "name": "python3",
      "display_name": "Python 3"
    },
    "language_info": {
      "name": "python"
    }
  },
  "cells": [
    {
      "cell_type": "markdown",
      "source": [
        "# Linear Algebra Fundamentals\n",
        "\n",
        "_Author: Callum Hall_  \n",
        "_Date: 06/08/2025_"
      ],
      "metadata": {
        "id": "ld-AYXPYNgof"
      }
    },
    {
      "cell_type": "markdown",
      "source": [
        "## Matrices\n",
        "\n",
        "### Basics\n",
        "\n",
        "Key definitions:\n",
        "\n",
        "* Scaler: A single number that represents a magnitude. (Think of this a just a number)\n",
        "* Vector: This is an ordered list of numbers meant to illustrate direction. This will often come as a pair of numbers e.g (60, 0)\n",
        "* Matrix: This is an ordered collection of scalers and vectors, often like a spreadsheet.\n",
        "  "
      ],
      "metadata": {
        "id": "s38DYOKRPyu3"
      }
    },
    {
      "cell_type": "markdown",
      "source": [
        "### Matrix manipulation\n",
        "\n",
        "For the examples, the matrices are as follows.\n",
        "\n",
        " <br>\n",
        "\n",
        "$$A = \\begin{pmatrix} 1 & 2 \\\\ 3 & 4 \\end{pmatrix} \\qquad B = \\begin{pmatrix} 5 & 6 \\\\ 7 & 8 \\end{pmatrix} \\qquad c=3$$\n",
        "\n",
        " <br>\n",
        "\n",
        " #### Scalar multiplication\n",
        "\n",
        "  <br>\n",
        "  The General Formula: The result of multiplying a matrix by a scalar. Matrix *A* is multiplied by scalar *c* gives a new matrix where every element is multiplied by *c*.\n",
        "\n",
        "   <br>\n",
        "\n",
        "   "
      ],
      "metadata": {
        "id": "jhJ5dJ3zW4GV"
      }
    },
    {
      "cell_type": "code",
      "execution_count": null,
      "metadata": {
        "id": "vbOUvRHxNLSr"
      },
      "outputs": [],
      "source": []
    }
  ]
}