{
  "nbformat": 4,
  "nbformat_minor": 0,
  "metadata": {
    "colab": {
      "provenance": [],
      "authorship_tag": "ABX9TyOvsEAVgMpfFLYi+qQjygeY"
    },
    "kernelspec": {
      "name": "python3",
      "display_name": "Python 3"
    },
    "language_info": {
      "name": "python"
    }
  },
  "cells": [
    {
      "cell_type": "markdown",
      "source": [
        "# Linear Algebra Fundamentals\n",
        "\n",
        "_Author: Callum Hall_  \n",
        "_Date: 06/08/2025_"
      ],
      "metadata": {
        "id": "ld-AYXPYNgof"
      }
    },
    {
      "cell_type": "markdown",
      "source": [
        "## Matrices\n",
        "\n",
        "### Basics\n",
        "\n",
        "Key definitions:\n",
        "\n",
        "* Scaler: A single number that represents a magnitude. (Think of this a just a number)\n",
        "* Vector: This is an ordered list of numbers meant to illustrate direction. This will often come as a pair of numbers e.g (60, 0)\n",
        "* Matrix: This is an ordered collection of scalers and vectors, often like a spreadsheet.\n",
        "  "
      ],
      "metadata": {
        "id": "s38DYOKRPyu3"
      }
    },
    {
      "cell_type": "markdown",
      "source": [
        "### Matrix Manipulation\n",
        "\n",
        "For the examples, the matrices are as follows.\n",
        "\n",
        "$$A = \\begin{pmatrix} 1 & 2 \\\\ 3 & 4 \\end{pmatrix} \\qquad B = \\begin{pmatrix} 5 & 6 \\\\ 7 & 8 \\end{pmatrix} \\qquad c=3$$\n",
        "\n",
        "#### Scalar Multiplication\n",
        "\n",
        "**The General Formula:** The result of multiplying a matrix $A$ by a scalar $c$ is a new matrix where every element is multiplied by $c$.\n",
        "\n",
        "$$cA := (ca_{ij})$$\n",
        "\n",
        "**Worked Example**\n",
        "\n",
        "$$3A = \\begin{pmatrix} 3 \\times 1 & 3 \\times 2 \\\\ 3 \\times 3 & 3 \\times 4 \\end{pmatrix} = \\begin{pmatrix} 3 & 6 \\\\ 9 & 12 \\end{pmatrix}$$\n",
        "\n",
        "**Further Examples**\n",
        "\n",
        "1.\n",
        "$$2B = \\begin{pmatrix} 10 & 12 \\\\ 14 & 16 \\end{pmatrix}$$\n",
        "\n",
        "2.\n",
        "$$-1A = \\begin{pmatrix} -1 & -2 \\\\ -3 & -4 \\end{pmatrix}$$\n",
        "\n",
        "#### Scalar Addition\n",
        "\n",
        "**The General Formula**\n",
        "\n",
        "The  sum of 2 matrices $A$ and $B$ (Which must have the same dimensions) is an element-wise sum.\n",
        "\n",
        "$$A + B = \\begin{pmatrix} a_{11}+b_{11} & \\cdots & a_{1n}+b_{1n} \\\\ \\vdots & \\ddots & \\vdots \\\\ a_{m1}+b_{m1} & \\cdots & a_{mn}+b_{mn} \\end{pmatrix}$$\n",
        "\n",
        "**Worked Example**\n",
        "\n",
        "$$A+B = \\begin{pmatrix} 1+5 & 2+6 \\\\ 3+7 & 4+8 \\end{pmatrix} = \\begin{pmatrix} 6 & 8 \\\\ 10 & 12 \\end{pmatrix}$$\n",
        "\n",
        "**Further Examples**\n",
        "\n",
        "1.\n",
        "$$A-B = \\begin{pmatrix} 1-5 & 2-6 \\\\ 3-7 & 4-8 \\end{pmatrix} = \\begin{pmatrix} -4 & -4 \\\\ -4 & -4 \\end{pmatrix}$$\n",
        "\n",
        "2.\n",
        "$$B+A = \\begin{pmatrix} 5+1 & 6+2 \\\\ 7+3 & 8+4 \\end{pmatrix} = \\begin{pmatrix} 6 & 8 \\\\ 10 & 12 \\end{pmatrix}$$\n",
        "\n",
        "#### Matrix Transposition\n",
        "\n",
        "**The General Formula**\n",
        "\n",
        "The transpose of a matrix $A(A^T)$ is a new matrix where the columns and rows of the previous ones are swapped. The element at position $(i,j)$ in $A$, moves to $(j, i)$ in $A^T$.\n",
        "\n",
        "$$A = \\begin{pmatrix} a & b \\\\ c & d \\end{pmatrix} \\qquad \\implies \\qquad A^T = \\begin{pmatrix} a & c \\\\ b & d \\end{pmatrix}$$\n",
        "\n",
        "**Worked Example**\n",
        "\n",
        "$$A^T = \\begin{pmatrix} 1 & 3 \\\\ 2 & 4 \\end{pmatrix}$$\n",
        "\n",
        "**Further Examples**\n",
        "\n",
        "1.\n",
        "$$B^T = \\begin{pmatrix} 5 & 7 \\\\ 6 & 8 \\end{pmatrix}$$\n",
        "\n",
        "2.\n",
        "$$(A^T)^T = \\begin{pmatrix} 1 & 2 \\\\ 3 & 4 \\end{pmatrix}$$\n",
        "\n",
        "#### Matrix Multiplication\n",
        "\n",
        "**The General Formula**\n",
        "\n",
        "The element in the i-th row and j-th column of the product AB is the dot product of the i-th row of A and the j-th column of B.\n",
        "\n",
        "$$(AB)_{ij} = \\sum_{k=1}^n a_{ik}b_{kj}$$\n",
        "\n",
        "**Worked Example**\n",
        "\n",
        "$$AB = \\begin{pmatrix} 1 & 2 \\\\ 3 & 4 \\end{pmatrix} \\begin{pmatrix} 5 & 6 \\\\ 7 & 8 \\end{pmatrix} = \\begin{pmatrix} (1 \\times 5) + (2 \\times 7) & (1 \\times 6) + (2 \\times 8) \\\\ (3 \\times 5) + (4 \\times 7) & (3 \\times 6) + (4 \\times 8) \\end{pmatrix} = \\begin{pmatrix} 19 & 22 \\\\ 43 & 50 \\end{pmatrix}$$\n",
        "\n",
        "**Further Examples**\n",
        "\n",
        "1.\n",
        "$$B = \\begin{pmatrix} 5 & 6 \\\\ 7 & 8 \\end{pmatrix} \\qquad A = \\begin{pmatrix} 1 & 2 \\\\ 3 & 4 \\end{pmatrix}$$\n",
        "\n",
        "$$(BA)_{11} = \\begin{pmatrix} 5 & 6 \\end{pmatrix} \\cdot \\begin{pmatrix} 1 \\\\ 3 \\end{pmatrix} = (5 \\times 1) + (6 \\times 3) = 5 + 18 = 23$$\n",
        "\n",
        "$$(BA)_{12} = \\begin{pmatrix} 5 & 6 \\end{pmatrix} \\cdot \\begin{pmatrix} 2 \\\\ 4 \\end{pmatrix} = (5 \\times 2) + (6 \\times 4) = 10 + 24 = 34$$\n",
        "\n",
        "$$(BA)_{21} = \\begin{pmatrix} 7 & 8 \\end{pmatrix} \\cdot \\begin{pmatrix} 1 \\\\ 3 \\end{pmatrix} = (7 \\times 1) + (8 \\times 3) = 7 + 24 = 31$$\n",
        "\n",
        "$$(BA)_{22} = \\begin{pmatrix} 7 & 8 \\end{pmatrix} \\cdot \\begin{pmatrix} 2 \\\\ 4 \\end{pmatrix} = (7 \\times 2) + (8 \\times 4) = 14 + 32 = 46$$\n",
        "\n",
        "$$BA = \\begin{pmatrix} 23 & 34 \\\\ 31 & 46 \\end{pmatrix}$$\n",
        "\n",
        "2.\n",
        "$$CD = \\begin{pmatrix} 50 \\\\ 122 \\end{pmatrix}$$\n",
        "\n"
      ],
      "metadata": {
        "id": "jhJ5dJ3zW4GV"
      }
    },
    {
      "cell_type": "code",
      "execution_count": null,
      "metadata": {
        "id": "vbOUvRHxNLSr"
      },
      "outputs": [],
      "source": []
    }
  ]
}