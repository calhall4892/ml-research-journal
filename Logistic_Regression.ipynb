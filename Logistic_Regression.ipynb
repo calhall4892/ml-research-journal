{
  "nbformat": 4,
  "nbformat_minor": 0,
  "metadata": {
    "colab": {
      "provenance": [],
      "authorship_tag": "ABX9TyPxXsGyKvo4dzkTB3/9Z1cB",
      "include_colab_link": true
    },
    "kernelspec": {
      "name": "python3",
      "display_name": "Python 3"
    },
    "language_info": {
      "name": "python"
    }
  },
  "cells": [
    {
      "cell_type": "markdown",
      "metadata": {
        "id": "view-in-github",
        "colab_type": "text"
      },
      "source": [
        "<a href=\"https://colab.research.google.com/github/calhall4892/ml-research-journal/blob/02_Regression_Models/Logistic_Regression.ipynb\" target=\"_parent\"><img src=\"https://colab.research.google.com/assets/colab-badge.svg\" alt=\"Open In Colab\"/></a>"
      ]
    },
    {
      "cell_type": "markdown",
      "source": [
        "# The Mathematics of Linear Regression\n",
        "\n",
        "_Author: Callum Hall_\n",
        "\n",
        "_Date: 11/08/2025_"
      ],
      "metadata": {
        "id": "ELPeyP6A4ILv"
      }
    },
    {
      "cell_type": "markdown",
      "source": [
        "## Chapter 1: The Core Idea\n",
        "\n",
        "### 1.1 Overview\n",
        "\n",
        "This notebook is looking at the mathematics and theory that underpins linear regression models. Linear regression models are an algorithm that is used in classification problems.\n",
        "\n",
        "### 1.2 The General Equation"
      ],
      "metadata": {
        "id": "KFNRvJsL4h-J"
      }
    },
    {
      "cell_type": "code",
      "execution_count": null,
      "metadata": {
        "id": "sjwfVcKFd_vg"
      },
      "outputs": [],
      "source": []
    }
  ]
}