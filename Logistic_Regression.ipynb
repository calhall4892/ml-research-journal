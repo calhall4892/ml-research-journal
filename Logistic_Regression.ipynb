{
  "nbformat": 4,
  "nbformat_minor": 0,
  "metadata": {
    "colab": {
      "provenance": [],
      "authorship_tag": "ABX9TyNOv1Xj/ShnuDuCHg9fGNlp"
    },
    "kernelspec": {
      "name": "python3",
      "display_name": "Python 3"
    },
    "language_info": {
      "name": "python"
    }
  },
  "cells": [
    {
      "cell_type": "markdown",
      "source": [
        "# The Mathematics of Linear Regression\n",
        "\n",
        "_Author: Callum Hall_\n",
        "\n",
        "_Date: 11/08/2025_"
      ],
      "metadata": {
        "id": "ELPeyP6A4ILv"
      }
    },
    {
      "cell_type": "markdown",
      "source": [
        "## Chapter 1: The Core Idea\n",
        "\n",
        "### 1.1 Overview\n",
        "\n",
        "This notebook is looking at the mathematics and theory that underpins linear regression models. Linear regression models are an algorithm that is used in classification problems. A traditional linear equation will not work in a classification problem because a linear regression model will provide an output that ranges from negative to positive infinity whereas a probability needs to be between 0-1. Therefore to do this, we have to apply a sigmoid transformation in order to ensure an output that will allow for probability problems.\n",
        "\n",
        "### 1.2 The General Equation\n",
        "\n",
        "$$\\sigma(z) = \\frac{1}{1 + e^{-z}}$$\n",
        "\n",
        "The sigmoid function is what changes a simple linear regression function into a logistic regression function that outputs in a 0-1 format rather than a negative infinity - postitive infinity scale.\n",
        "\n",
        "The way the sigmoid function works is in the $e^{-z}$ which dictates whether the overall function is a very small number or very large number. For example"
      ],
      "metadata": {
        "id": "KFNRvJsL4h-J"
      }
    },
    {
      "cell_type": "code",
      "execution_count": null,
      "metadata": {
        "id": "sjwfVcKFd_vg"
      },
      "outputs": [],
      "source": []
    }
  ]
}