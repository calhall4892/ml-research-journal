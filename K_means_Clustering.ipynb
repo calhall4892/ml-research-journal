{
  "nbformat": 4,
  "nbformat_minor": 0,
  "metadata": {
    "colab": {
      "provenance": [],
      "authorship_tag": "ABX9TyO1oJLgf+eHeegToRFMBQPh"
    },
    "kernelspec": {
      "name": "python3",
      "display_name": "Python 3"
    },
    "language_info": {
      "name": "python"
    }
  },
  "cells": [
    {
      "cell_type": "markdown",
      "source": [
        "# K-means clustering\n",
        "\n",
        "## Introduction\n",
        "\n",
        "The K-means algorithm is a distance-based unsupervised machine learning algorithm designed to seperate datapoints into clusters to help understand underlying patterns within the data. The entire process consists of a number of steps. They are:\n",
        "\n",
        "* The assignment step\n",
        "* The update step\n",
        "* The Objective function\n",
        "\n",
        "The overall goal of the algorithm is to reduce the overall euclidean distance between the datapoints and the centroid. The loss function that drives this algorithm is called Within Cluster Sum of Squares (WC-SSE)\n",
        "\n",
        "## The assignment step"
      ],
      "metadata": {
        "id": "WVUWZQVwwy2H"
      }
    }
  ]
}