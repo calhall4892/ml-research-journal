{
  "nbformat": 4,
  "nbformat_minor": 0,
  "metadata": {
    "colab": {
      "provenance": [],
      "authorship_tag": "ABX9TyNyz5a6jzzXUjXtKtBZzCWu"
    },
    "kernelspec": {
      "name": "python3",
      "display_name": "Python 3"
    },
    "language_info": {
      "name": "python"
    }
  },
  "cells": [
    {
      "cell_type": "markdown",
      "source": [
        "# K-means clustering\n",
        "\n",
        "## Introduction\n",
        "\n",
        "The K-means algorithm is a distance-based unsupervised machine learning algorithm designed to seperate datapoints into clusters to help understand underlying patterns within the data."
      ],
      "metadata": {
        "id": "WVUWZQVwwy2H"
      }
    },
    {
      "cell_type": "code",
      "execution_count": null,
      "metadata": {
        "id": "IQ7wptSQwx-0"
      },
      "outputs": [],
      "source": []
    }
  ]
}