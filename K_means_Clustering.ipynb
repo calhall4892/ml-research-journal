{
  "nbformat": 4,
  "nbformat_minor": 0,
  "metadata": {
    "colab": {
      "provenance": [],
      "authorship_tag": "ABX9TyNzq9BkCfB7UoVyhEhfOD5/"
    },
    "kernelspec": {
      "name": "python3",
      "display_name": "Python 3"
    },
    "language_info": {
      "name": "python"
    }
  },
  "cells": [
    {
      "cell_type": "markdown",
      "source": [
        "# K-means clustering\n",
        "\n",
        "## Introduction\n",
        "\n",
        "The K-means algorithm is a distance-based unsupervised machine learning algorithm designed to seperate datapoints into clusters to help understand underlying patterns within the data. The entire process consists of a number of steps. They are:\n",
        "\n",
        "* The assignment step\n",
        "* The update step\n",
        "* The Objective function\n",
        "\n",
        "The overall goal of the algorithm is to reduce the overall euclidean distance between the datapoints and the centroid. The loss function that drives this algorithm is called Within Cluster Sum of Squares (WC-SSE).\n",
        "\n",
        "### Initialisation\n",
        "\n",
        "To initialise the kmeans algorithm, the $K$ value is assigned, telling the algorithm the number of clusters to work with. This can be found by initialising a loop to test a number of $K$ values and then compare the inertia values for each (see inertia section). An example of the plot used to compare can be seen below.\n",
        "\n",
        "** INSERT **\n",
        "\n",
        "## The assignment step\n",
        "\n",
        "This step looks at each data point and seeks to attach it to a centroid by finding which centroid is the closest. This happens by calculating the the distance to all and then finding the smallest value.\n",
        "\n",
        "### Mathematical formula\n",
        "\n",
        "$$x_i \\in S_j \\iff j = \\underset{k}{\\arg\\min} ||x_i - \\mu_k||^2$$\n",
        "\n",
        "### Explanation\n",
        "\n"
      ],
      "metadata": {
        "id": "WVUWZQVwwy2H"
      }
    }
  ]
}